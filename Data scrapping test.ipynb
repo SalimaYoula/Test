{
 "cells": [
  {
   "cell_type": "code",
   "execution_count": 61,
   "id": "ebd1282c",
   "metadata": {},
   "outputs": [],
   "source": [
    "import requests\n",
    "from bs4 import BeautifulSoup as bs\n",
    "import csv\n",
    "import pandas as pd"
   ]
  },
  {
   "cell_type": "code",
   "execution_count": 63,
   "id": "c168a03c",
   "metadata": {},
   "outputs": [],
   "source": [
    "URL = ['https://en.wikipedia.org/wiki/Microsoft','https://en.m.wikipedia.org/wiki/Salesforce','https://en.m.wikipedia.org/wiki/Bouygues','https://en.wikipedia.org/wiki/HSBC','https://en.wikipedia.org/wiki/Dataiku','https://en.m.wikipedia.org/wiki/BNP_Paribas']\n",
    "rows = {}\n",
    "sale = {}\n",
    "bouy = {}\n",
    "hsbc = {}\n",
    "dk = {}\n",
    "bnp = {}\n",
    "rows2 = []\n",
    "for url in range(0,6):\n",
    "    req = requests.get(URL[url])\n",
    "    soup = bs(req.text, 'html.parser')\n",
    "    adresse = soup.find_all('div', class_='infobox-caption')\n",
    "    otherInfo = soup.find_all('td', class_='infobox-data')\n",
    "    nom = soup.find_all('caption', class_='infobox-title fn org')\n",
    "    addrB = soup.find_all('td', class_='infobox-data adr')\n",
    "    addrH = soup.find_all('td', class_='infobox-data label')\n",
    "    if(url == 0):\n",
    "        rows['Name']= otherInfo[0].text\n",
    "        rows['Adresse'] = adresse[0].text\n",
    "        rows['Revenue'] = otherInfo[13].text\n",
    "        rows['Total number of employer'] = otherInfo[18].text\n",
    "        rows['website'] = otherInfo[21].text\n",
    "        rows2.append(rows)\n",
    "    elif(url ==1):\n",
    "        sale['Name'] = otherInfo[0].text\n",
    "        sale['Adresse'] = adresse[0].text\n",
    "        sale['Revenue'] = otherInfo[10].text\n",
    "        sale['Total number of employer'] = otherInfo[15].text\n",
    "        sale['website'] = otherInfo[17].text\n",
    "        rows2.append(sale)\n",
    "    elif(url == 2):\n",
    "        bouy['Name'] = nom[0].text\n",
    "        bouy['Adresse'] = addrB[0].text\n",
    "        bouy['Revenue'] = otherInfo[9].text\n",
    "        bouy['Total number of employer'] = otherInfo[12].text\n",
    "        rows2.append(bouy)\n",
    "    elif(url == 3):\n",
    "        hsbc['Name'] = nom[0].text\n",
    "        hsbc['Adresse'] = addrH[0].text\n",
    "        hsbc['Revenue'] = otherInfo[9].text\n",
    "        hsbc['Total number of employer'] = otherInfo[15].text\n",
    "        hsbc['website'] = otherInfo[17].text\n",
    "        rows2.append(hsbc)\n",
    "    elif(url == 4):\n",
    "        dk['Name'] = nom[0].text\n",
    "        dk['Adresse'] = addrB[0].text\n",
    "        dk['Revenue'] = otherInfo[7].text\n",
    "        dk['Total number of employer'] = otherInfo[8].text\n",
    "        dk['website'] = otherInfo[9].text\n",
    "        rows2.append(dk)\n",
    "    elif(url == 5):\n",
    "        bnp['Name'] = nom[0].text\n",
    "        bnp['Adresse'] = addrH[0].text\n",
    "        bnp['Revenue'] = otherInfo[9].text\n",
    "        bnp['Total number of employer'] = otherInfo[14].text\n",
    "        bnp['website'] = otherInfo[15].text\n",
    "        rows2.append(bnp)\n",
    "df = pd.DataFrame(rows2)\n",
    "# saving the dataframe\n",
    "df.to_csv('data_files.csv')"
   ]
  },
  {
   "cell_type": "code",
   "execution_count": 64,
   "id": "67e92b4e",
   "metadata": {},
   "outputs": [
    {
     "ename": "SyntaxError",
     "evalue": "invalid syntax (4128109673.py, line 9)",
     "output_type": "error",
     "traceback": [
      "\u001b[1;36m  Input \u001b[1;32mIn [64]\u001b[1;36m\u001b[0m\n\u001b[1;33m    case \"1\":\u001b[0m\n\u001b[1;37m         ^\u001b[0m\n\u001b[1;31mSyntaxError\u001b[0m\u001b[1;31m:\u001b[0m invalid syntax\n"
     ]
    }
   ],
   "source": [
    "for url in range(0,6):\n",
    "    req = requests.get(URL[url])\n",
    "    soup = bs(req.text, 'html.parser')\n",
    "    adresse = soup.find_all('div', class_='infobox-caption')\n",
    "    otherInfo = soup.find_all('td', class_='infobox-data')\n",
    "    nom = soup.find_all('caption', class_='infobox-title fn org')\n",
    "    addrB = soup.find_all('td', class_='infobox-data adr')\n",
    "    addrH = soup.find_all('td', class_='infobox-data label')\n",
    "    case \"1\":\n",
    "        print(\"OK\")\n",
    "    case \"2\":\n",
    "        print(\"Not Found\")\n",
    "    case \"3\":\n",
    "        print(\"I'm a teapot\")\n",
    "    case \"4\":\n",
    "        print(\"Code not found\")"
   ]
  },
  {
   "cell_type": "code",
   "execution_count": null,
   "id": "31703c24",
   "metadata": {},
   "outputs": [],
   "source": []
  }
 ],
 "metadata": {
  "kernelspec": {
   "display_name": "Python 3 (ipykernel)",
   "language": "python",
   "name": "python3"
  },
  "language_info": {
   "codemirror_mode": {
    "name": "ipython",
    "version": 3
   },
   "file_extension": ".py",
   "mimetype": "text/x-python",
   "name": "python",
   "nbconvert_exporter": "python",
   "pygments_lexer": "ipython3",
   "version": "3.9.12"
  }
 },
 "nbformat": 4,
 "nbformat_minor": 5
}
